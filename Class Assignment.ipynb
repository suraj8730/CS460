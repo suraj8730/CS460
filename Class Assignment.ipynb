{
 "cells": [
  {
   "cell_type": "markdown",
   "id": "8c4dda95",
   "metadata": {},
   "source": [
    "### Create dataset that has some linear correlation and plot the data (matplotlib)\n"
   ]
  },
  {
   "cell_type": "markdown",
   "id": "bca53ab3",
   "metadata": {},
   "source": [
    "The linear regresssion has the least computaional heavy.\n",
    "The SGD is most accurate and more computationaly heavy and slow.\n",
    "The batch gradient dicent one is fater and least accurate.\n",
    "But mini-batch is optimal and mostly used as it is accurate then batch gradient dicent and faster then SGD."
   ]
  },
  {
   "cell_type": "code",
   "execution_count": 153,
   "id": "505af1e0",
   "metadata": {},
   "outputs": [],
   "source": [
    "import numpy as np\n",
    "import math\n",
    "import random\n",
    "import matplotlib.pyplot as plt\n",
    "from sklearn.linear_model import LinearRegression"
   ]
  },
  {
   "cell_type": "code",
   "execution_count": 154,
   "id": "b925c5d4",
   "metadata": {},
   "outputs": [],
   "source": [
    "x_cord=[]\n",
    "y_cord=[]\n",
    "m=5\n",
    "n=50\n",
    "for i in range(n):\n",
    "    x=random.random()\n",
    "    c=random.random()\n",
    "    y=m*x+c\n",
    "    x_cord.append(x)\n",
    "    y_cord.append(y)"
   ]
  },
  {
   "cell_type": "code",
   "execution_count": 155,
   "id": "dbd3e05e",
   "metadata": {
    "scrolled": true
   },
   "outputs": [
    {
     "data": {
      "text/plain": [
       "Text(0, 0.5, 'Y')"
      ]
     },
     "execution_count": 155,
     "metadata": {},
     "output_type": "execute_result"
    },
    {
     "data": {
      "image/png": "[encoded data removed]",
      "text/plain": [
       "<Figure size 432x288 with 1 Axes>"
      ]
     },
     "metadata": {
      "needs_background": "light"
     },
     "output_type": "display_data"
    }
   ],
   "source": [
    "plt.scatter(x_cord, y_cord)\n",
    "plt.xlabel('X')\n",
    "plt.ylabel('Y')"
   ]
  },
  {
   "cell_type": "code",
   "execution_count": 156,
   "id": "9fa9f491",
   "metadata": {},
   "outputs": [
    {
     "name": "stdout",
     "output_type": "stream",
     "text": [
      "intercept: 0.4656689058922998\n",
      "slope: 5.036616440983464\n"
     ]
    }
   ],
   "source": [
    "x = np.array(x_cord).reshape((-1, 1))\n",
    "y = np.array(y_cord)\n",
    "model = LinearRegression()\n",
    "reg = model.fit(x,y)\n",
    "m=reg.coef_[0]\n",
    "c=reg.intercept_\n",
    "print('intercept:', c)\n",
    "print('slope:', m)"
   ]
  },
  {
   "cell_type": "code",
   "execution_count": 157,
   "id": "d250dce1",
   "metadata": {},
   "outputs": [],
   "source": [
    "x_=[]\n",
    "y_=[]\n",
    "for i in range(n):\n",
    "    x=x_cord[i]\n",
    "    y=m*x+c\n",
    "    x_.append(x)\n",
    "    y_.append(y)"
   ]
  },
  {
   "cell_type": "code",
   "execution_count": 158,
   "id": "7e26b585",
   "metadata": {},
   "outputs": [
    {
     "data": {
      "text/plain": [
       "Text(0, 0.5, 'Y')"
      ]
     },
     "execution_count": 158,
     "metadata": {},
     "output_type": "execute_result"
    },
    {
     "data": {
      "image/png": "[encoded data removed]",
      "text/plain": [
       "<Figure size 432x288 with 1 Axes>"
      ]
     },
     "metadata": {
      "needs_background": "light"
     },
     "output_type": "display_data"
    }
   ],
   "source": [
    "plt.scatter(x_cord, y_cord)\n",
    "plt.plot(x_,y_,color='black')\n",
    "plt.xlabel('X')\n",
    "plt.ylabel('Y')"
   ]
  },
  {
   "cell_type": "code",
   "execution_count": 159,
   "id": "ea1a007b",
   "metadata": {},
   "outputs": [
    {
     "name": "stdout",
     "output_type": "stream",
     "text": [
      "Error: 0.09962506729317004\n",
      "intercept: 0.5941893514048701\n",
      "slope: 5.064228659237111\n"
     ]
    }
   ],
   "source": [
    "#SGD\n",
    "m_=random.random()\n",
    "c_=random.random()\n",
    "alpha=0.05\n",
    "iteration=5000\n",
    "for l in range(iteration):\n",
    "    for i in range(n):\n",
    "        j=random.randint(0,n-1)\n",
    "        x_i=x_cord[j]\n",
    "        y_a=y_cord[j]\n",
    "        y_p=m_*x_i+c_\n",
    "        error=(y_p-y_a)**2\n",
    "        dm=2*x_i*(y_p-y_a)\n",
    "        dc=2*(y_p-y_a)\n",
    "        m_=m_-alpha*dm\n",
    "        c_=c_-alpha*dc\n",
    "print('Error:', error)\n",
    "print('intercept:', c_)\n",
    "print('slope:', m_)"
   ]
  },
  {
   "cell_type": "code",
   "execution_count": 160,
   "id": "447bd306",
   "metadata": {},
   "outputs": [
    {
     "data": {
      "text/plain": [
       "Text(0, 0.5, 'Y')"
      ]
     },
     "execution_count": 160,
     "metadata": {},
     "output_type": "execute_result"
    },
    {
     "data": {
      "image/png": "[encoded data removed]",
      "text/plain": [
       "<Figure size 432x288 with 1 Axes>"
      ]
     },
     "metadata": {
      "needs_background": "light"
     },
     "output_type": "display_data"
    }
   ],
   "source": [
    "x_=[]\n",
    "y_=[]\n",
    "for i in range(n):\n",
    "    x=x_cord[i]\n",
    "    y=m_*x+c_\n",
    "    x_.append(x)\n",
    "    y_.append(y)\n",
    "plt.scatter(x_cord, y_cord)\n",
    "plt.plot(x_,y_,color='black')\n",
    "plt.xlabel('X')\n",
    "plt.ylabel('Y')"
   ]
  },
  {
   "cell_type": "code",
   "execution_count": 161,
   "id": "abf189cb",
   "metadata": {},
   "outputs": [
    {
     "name": "stdout",
     "output_type": "stream",
     "text": [
      "Error: 0.09365071476739122\n",
      "intercept: 0.46566890589231463\n",
      "slope: 5.0366164409834395\n"
     ]
    }
   ],
   "source": [
    "#Batch\n",
    "m_=random.random()\n",
    "c_=random.random()\n",
    "alpha=0.1\n",
    "error=0\n",
    "iteration=5000\n",
    "for j in range(iteration):\n",
    "    for i in range(n):\n",
    "        x_i=x_cord[i]\n",
    "        y_a=y_cord[i]\n",
    "        y_p=m_*x_cord[i]+c_\n",
    "        error+=(y_p-y_a)**2\n",
    "        dm+=x_i*(y_p-y_a)\n",
    "        dc+=(y_p-y_a)\n",
    "    dm=(2/n)*dm\n",
    "    dc=(2/n)*dc\n",
    "    error=(1/n)*error\n",
    "    m_=m_-alpha*dm\n",
    "    c_=c_-alpha*dc\n",
    "print('Error:', error)\n",
    "print('intercept:', c_)\n",
    "print('slope:', m_)"
   ]
  },
  {
   "cell_type": "code",
   "execution_count": 162,
   "id": "098d6d7e",
   "metadata": {},
   "outputs": [
    {
     "data": {
      "text/plain": [
       "Text(0, 0.5, 'Y')"
      ]
     },
     "execution_count": 162,
     "metadata": {},
     "output_type": "execute_result"
    },
    {
     "data": {
      "image/png": "[encoded data removed]",
      "text/plain": [
       "<Figure size 432x288 with 1 Axes>"
      ]
     },
     "metadata": {
      "needs_background": "light"
     },
     "output_type": "display_data"
    }
   ],
   "source": [
    "x_=[]\n",
    "y_=[]\n",
    "for i in range(n):\n",
    "    x=x_cord[i]\n",
    "    y=m_*x+c_\n",
    "    x_.append(x)\n",
    "    y_.append(y)\n",
    "plt.scatter(x_cord, y_cord)\n",
    "plt.plot(x_,y_,color='black')\n",
    "plt.xlabel('X')\n",
    "plt.ylabel('Y')"
   ]
  },
  {
   "cell_type": "code",
   "execution_count": 163,
   "id": "ae0a05a7",
   "metadata": {},
   "outputs": [
    {
     "name": "stdout",
     "output_type": "stream",
     "text": [
      "Error: 0.09374966677672249\n",
      "intercept: 0.4728153800775205\n",
      "slope: 5.0450625947441825\n"
     ]
    }
   ],
   "source": [
    "#Mini Batch\n",
    "m_=random.random()\n",
    "c_=random.random()\n",
    "alpha=0.1\n",
    "error=0\n",
    "iteration=5000\n",
    "b=10\n",
    "q=0\n",
    "for j in range(iteration):\n",
    "    for p in range(q+b,n+b,b):\n",
    "        for i in range(q,p):\n",
    "            x_i=x_cord[i]\n",
    "            y_a=y_cord[i]\n",
    "            y_p=m_*x_cord[i]+c_\n",
    "            error+=(y_p-y_a)**2\n",
    "            dm+=x_i*(y_p-y_a)\n",
    "            dc+=(y_p-y_a)\n",
    "        dm=(2/b)*dm\n",
    "        dc=(2/b)*dc\n",
    "        error=(1/b)*error\n",
    "        m_=m_-alpha*dm\n",
    "        c_=c_-alpha*dc\n",
    "        q=p\n",
    "    q=0\n",
    "print('Error:', error)\n",
    "print('intercept:', c_)\n",
    "print('slope:', m_)"
   ]
  },
  {
   "cell_type": "code",
   "execution_count": 164,
   "id": "863d8ead",
   "metadata": {
    "scrolled": true
   },
   "outputs": [
    {
     "data": {
      "text/plain": [
       "Text(0, 0.5, 'Y')"
      ]
     },
     "execution_count": 164,
     "metadata": {},
     "output_type": "execute_result"
    },
    {
     "data": {
      "image/png": "[encoded data removed]",
      "text/plain": [
       "<Figure size 432x288 with 1 Axes>"
      ]
     },
     "metadata": {
      "needs_background": "light"
     },
     "output_type": "display_data"
    }
   ],
   "source": [
    "x_=[]\n",
    "y_=[]\n",
    "for i in range(n):\n",
    "    x=x_cord[i]\n",
    "    y=m_*x+c_\n",
    "    x_.append(x)\n",
    "    y_.append(y)\n",
    "plt.scatter(x_cord, y_cord)\n",
    "plt.plot(x_,y_,color='black')\n",
    "plt.xlabel('X')\n",
    "plt.ylabel('Y')"
   ]
  },
  {
   "cell_type": "code",
   "execution_count": null,
   "id": "c147cf0c",
   "metadata": {},
   "outputs": [],
   "source": []
  }
 ],
 "metadata": {
  "kernelspec": {
   "display_name": "Python 3",
   "language": "python",
   "name": "python3"
  },
  "language_info": {
   "codemirror_mode": {
    "name": "ipython",
    "version": 3
   },
   "file_extension": ".py",
   "mimetype": "text/x-python",
   "name": "python",
   "nbconvert_exporter": "python",
   "pygments_lexer": "ipython3",
   "version": "3.9.4"
  }
 },
 "nbformat": 4,
 "nbformat_minor": 5
}
